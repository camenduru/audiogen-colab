{
  "cells": [
    {
      "cell_type": "markdown",
      "metadata": {
        "id": "view-in-github"
      },
      "source": [
        "[![Open In Colab](https://colab.research.google.com/assets/colab-badge.svg)](https://colab.research.google.com/github/camenduru/audiogen-colab/blob/main/audiogen_colab.ipynb)"
      ]
    },
    {
      "cell_type": "code",
      "execution_count": null,
      "metadata": {},
      "outputs": [],
      "source": [
        "import locale\n",
        "locale.getpreferredencoding = lambda: \"UTF-8\"\n",
        "\n",
        "!pip install -q git+https://github.com/camenduru/audiocraft\n",
        "\n",
        "!apt -y install -qq aria2\n",
        "!aria2c --console-log-level=error -c -x 16 -s 16 -k 1M https://huggingface.co/audo/audiogen-medium/resolve/main/compression_state_dict.bin -d /content/model -o compression_state_dict.bin\n",
        "!aria2c --console-log-level=error -c -x 16 -s 16 -k 1M https://huggingface.co/audo/audiogen-medium/resolve/main/state_dict.bin -d /content/model -o state_dict.bin\n",
        "\n",
        "import gradio as gr\n",
        "from audiocraft.models import AudioGen\n",
        "from audiocraft.data.audio import audio_write\n",
        "\n",
        "model = AudioGen.get_pretrained('/content/model')\n",
        "\n",
        "def generate(description):\n",
        "    descriptions = [description]\n",
        "    output = model.generate(descriptions, progress=True)\n",
        "    audio_write(f'out', output[0].cpu(), model.sample_rate, strategy=\"loudness\", loudness_compressor=True)\n",
        "    return \"/content/out.wav\"\n",
        "\n",
        "block = gr.Blocks()\n",
        "with block:\n",
        "    with gr.Group():\n",
        "      description = gr.Textbox(value=\"A cat meowing\")\n",
        "      btn = gr.Button(\"Generate\")\n",
        "      audio_out = gr.Audio()\n",
        "    btn.click(generate, inputs=description, outputs=audio_out)\n",
        "block.launch(debug=True)"
      ]
    }
  ],
  "metadata": {
    "accelerator": "GPU",
    "colab": {
      "gpuType": "T4",
      "provenance": []
    },
    "kernelspec": {
      "display_name": "Python 3",
      "name": "python3"
    },
    "language_info": {
      "name": "python"
    }
  },
  "nbformat": 4,
  "nbformat_minor": 0
}

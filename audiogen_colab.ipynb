{
  "cells": [
    {
      "cell_type": "markdown",
      "metadata": {
        "id": "view-in-github"
      },
      "source": [
        "[![Open In Colab](https://colab.research.google.com/assets/colab-badge.svg)](https://colab.research.google.com/github/camenduru/audiogen-colab/blob/main/audiogen_colab.ipynb)"
      ]
    },
    {
      "cell_type": "code",
      "execution_count": null,
      "metadata": {},
      "outputs": [],
      "source": [
        "!pip install git+https://github.com/camenduru/audiocraft\n",
        "\n",
        "from audiocraft.models import AudioGen\n",
        "model = AudioGen.get_pretrained('facebook/audiogen-medium')"
      ]
    },
    {
      "cell_type": "code",
      "execution_count": null,
      "metadata": {},
      "outputs": [],
      "source": [
        "from audiocraft.utils.notebook import display_audio\n",
        "descriptions = ['dog barking', 'sirenes of an emergency vehicule', 'footsteps in a corridor', 'Subway train blowing its horn', 'A cat meowing']\n",
        "output = model.generate(descriptions,progress=True)\n",
        "display_audio(output, sample_rate=16000)"
      ]
    }
  ],
  "metadata": {
    "accelerator": "GPU",
    "colab": {
      "gpuType": "T4",
      "provenance": []
    },
    "kernelspec": {
      "display_name": "Python 3",
      "name": "python3"
    },
    "language_info": {
      "name": "python"
    }
  },
  "nbformat": 4,
  "nbformat_minor": 0
}

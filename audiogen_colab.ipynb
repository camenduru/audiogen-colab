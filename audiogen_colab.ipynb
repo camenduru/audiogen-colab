{
  "cells": [
    {
      "cell_type": "markdown",
      "metadata": {
        "id": "view-in-github"
      },
      "source": [
        "[![Open In Colab](https://colab.research.google.com/assets/colab-badge.svg)](https://colab.research.google.com/github/camenduru/audiogen-colab/blob/main/audiogen_colab.ipynb)"
      ]
    },
    {
      "cell_type": "code",
      "execution_count": null,
      "metadata": {},
      "outputs": [],
      "source": [
        "import locale\n",
        "locale.getpreferredencoding = lambda: \"UTF-8\"\n",
        "\n",
        "!pip install -q git+https://github.com/camenduru/audiocraft\n",
        "\n",
        "!apt -y install -qq aria2\n",
        "!aria2c --console-log-level=error -c -x 16 -s 16 -k 1M https://huggingface.co/audo/audiogen-medium/resolve/main/compression_state_dict.bin -d /content/model -o compression_state_dict.bin\n",
        "!aria2c --console-log-level=error -c -x 16 -s 16 -k 1M https://huggingface.co/audo/audiogen-medium/resolve/main/state_dict.bin -d /content/model -o state_dict.bin\n",
        "\n",
        "import gradio as gr\n",
        "from audiocraft.models import AudioGen\n",
        "from audiocraft.data.audio import audio_write\n",
        "\n",
        "model = AudioGen.get_pretrained('/content/model')\n",
        "\n",
        "def generate(description, top_k=250, top_p=0.0, temperature=1.0, duration=10, cfg_coef=3.0):\n",
        "    descriptions = [description]\n",
        "    model.set_generation_params(use_sampling=True, top_k=top_k, top_p=top_p, temperature=temperature, duration=duration, cfg_coef=cfg_coef)\n",
        "    output = model.generate(descriptions, progress=False)\n",
        "    audio_write(f'out', output[0].cpu(), model.sample_rate, strategy=\"loudness\", loudness_compressor=True)\n",
        "    return \"/content/out.wav\"\n",
        "\n",
        "block = gr.Blocks()\n",
        "with block:\n",
        "    with gr.Group():\n",
        "      description = gr.Textbox(label=\"text\",value=\"A cat meowing\")\n",
        "      with gr.Row():\n",
        "        top_k = gr.Slider(label=\"top_k\", value=250, step=1, maximum=500)\n",
        "        top_p = gr.Slider(label=\"top_p\",value=0.0, step=0.1, maximum=10)\n",
        "        temperature = gr.Slider(label=\"temperature\",value=1.0, step=0.1, maximum=10)\n",
        "        duration = gr.Slider(label=\"duration\",value=10, step=0.1, maximum=10)\n",
        "        cfg_coef = gr.Slider(label=\"cfg_coef\",value=3.0, step=0.1, maximum=10)\n",
        "      btn = gr.Button(\"Generate\")\n",
        "      audio_out = gr.Audio()\n",
        "    btn.click(generate, inputs=[description, top_k, top_p, temperature, duration, cfg_coef], outputs=audio_out)\n",
        "block.launch(debug=True)"
      ]
    }
  ],
  "metadata": {
    "accelerator": "GPU",
    "colab": {
      "gpuType": "T4",
      "provenance": []
    },
    "kernelspec": {
      "display_name": "Python 3",
      "name": "python3"
    },
    "language_info": {
      "name": "python"
    }
  },
  "nbformat": 4,
  "nbformat_minor": 0
}

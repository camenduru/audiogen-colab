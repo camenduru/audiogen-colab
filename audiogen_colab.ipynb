{
  "cells": [
    {
      "cell_type": "markdown",
      "metadata": {
        "id": "view-in-github"
      },
      "source": [
        "[![Open In Colab](https://colab.research.google.com/assets/colab-badge.svg)](https://colab.research.google.com/github/camenduru/audiogen-colab/blob/main/audiogen_colab.ipynb)"
      ]
    },
    {
      "cell_type": "code",
      "execution_count": null,
      "metadata": {
        "id": "NrgcDwZxgDOe"
      },
      "outputs": [],
      "source": [
        "%cd /content\n",
        "!git clone https://github.com/camenduru/audiocraft\n",
        "%cd /content/audiocraft\n",
        "!pip install gradio==3.38.0\n",
        "!apt -y install -qq aria2\n",
        "!aria2c --console-log-level=error -c -x 16 -s 16 -k 1M https://huggingface.co/audo/audiogen-medium/resolve/main/compression_state_dict.bin -d /content -o compression_state_dict.bin\n",
        "!aria2c --console-log-level=error -c -x 16 -s 16 -k 1M https://huggingface.co/audo/audiogen-medium/resolve/main/state_dict.bin -d /content -o state_dict.bin\n",
        "!python app.py"
      ]
    },
    {
      "cell_type": "code",
      "execution_count": null,
      "metadata": {},
      "outputs": [],
      "source": [
        "!pip install git+https://github.com/camenduru/audiocraft"
      ]
    },
    {
      "cell_type": "code",
      "execution_count": null,
      "metadata": {},
      "outputs": [],
      "source": [
        "import torchaudio\n",
        "from audiocraft.models import AudioGen\n",
        "from audiocraft.data.audio import audio_write\n",
        "\n",
        "model = AudioGen.get_pretrained('facebook/audiogen-medium')\n",
        "model.set_generation_params(duration=5)  # generate 8 seconds.\n",
        "wav = model.generate_unconditional(4)    # generates 4 unconditional audio samples\n",
        "descriptions = ['dog barking', 'sirenes of an emergency vehicule', 'footsteps in a corridor']\n",
        "wav = model.generate(descriptions)  # generates 3 samples.\n",
        "\n",
        "for idx, one_wav in enumerate(wav):\n",
        "    # Will save under {idx}.wav, with loudness normalization at -14 db LUFS.\n",
        "    audio_write(f'{idx}', one_wav.cpu(), model.sample_rate, strategy=\"loudness\", loudness_compressor=True)"
      ]
    },
    {
      "cell_type": "code",
      "execution_count": null,
      "metadata": {},
      "outputs": [],
      "source": [
        "from audiocraft.models import AudioGen\n",
        "model = AudioGen.get_pretrained('facebook/audiogen-medium')\n",
        "\n",
        "model.set_generation_params(\n",
        "    use_sampling=True,\n",
        "    top_k=250,\n",
        "    duration=5\n",
        ")\n",
        "\n",
        "import math\n",
        "import torchaudio\n",
        "import torch\n",
        "from audiocraft.utils.notebook import display_audio\n",
        "\n",
        "def get_bip_bip(bip_duration=0.125, frequency=440,\n",
        "                duration=0.5, sample_rate=16000, device=\"cuda\"):\n",
        "    \"\"\"Generates a series of bip bip at the given frequency.\"\"\"\n",
        "    t = torch.arange(\n",
        "        int(duration * sample_rate), device=\"cuda\", dtype=torch.float) / sample_rate\n",
        "    wav = torch.cos(2 * math.pi * 440 * t)[None]\n",
        "    tp = (t % (2 * bip_duration)) / (2 * bip_duration)\n",
        "    envelope = (tp >= 0.5).float()\n",
        "    return wav * envelope"
      ]
    },
    {
      "cell_type": "code",
      "execution_count": null,
      "metadata": {},
      "outputs": [],
      "source": [
        "# Here we use a synthetic signal to prompt the generated audio.\n",
        "res = model.generate_continuation(\n",
        "    get_bip_bip(0.125).expand(2, -1, -1), \n",
        "    16000, ['Whistling with wind blowing', \n",
        "            'Typing on a typewriter'], \n",
        "    progress=True)\n",
        "display_audio(res, 16000)"
      ]
    },
    {
      "cell_type": "code",
      "execution_count": null,
      "metadata": {},
      "outputs": [],
      "source": [
        "# You can also use any audio from a file. Make sure to trim the file if it is too long!\n",
        "prompt_waveform, prompt_sr = torchaudio.load(\"../assets/sirens_and_a_humming_engine_approach_and_pass.mp3\")\n",
        "prompt_duration = 2\n",
        "prompt_waveform = prompt_waveform[..., :int(prompt_duration * prompt_sr)]\n",
        "output = model.generate_continuation(prompt_waveform, prompt_sample_rate=prompt_sr, progress=True)\n",
        "display_audio(output, sample_rate=16000)"
      ]
    },
    {
      "cell_type": "code",
      "execution_count": null,
      "metadata": {},
      "outputs": [],
      "source": [
        "from audiocraft.utils.notebook import display_audio\n",
        "\n",
        "output = model.generate(\n",
        "    descriptions=[\n",
        "        'Subway train blowing its horn',\n",
        "        'A cat meowing',\n",
        "    ],\n",
        "    progress=True\n",
        ")\n",
        "display_audio(output, sample_rate=16000)"
      ]
    }
  ],
  "metadata": {
    "accelerator": "GPU",
    "colab": {
      "gpuType": "T4",
      "provenance": []
    },
    "kernelspec": {
      "display_name": "Python 3",
      "name": "python3"
    },
    "language_info": {
      "name": "python"
    }
  },
  "nbformat": 4,
  "nbformat_minor": 0
}
